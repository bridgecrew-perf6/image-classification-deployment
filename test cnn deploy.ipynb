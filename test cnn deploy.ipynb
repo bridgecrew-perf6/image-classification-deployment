{
 "cells": [
  {
   "cell_type": "code",
   "execution_count": 1,
   "id": "c85f94e5",
   "metadata": {},
   "outputs": [],
   "source": [
    "import pickle,keras,cv2\n",
    "import numpy as np"
   ]
  },
  {
   "cell_type": "code",
   "execution_count": 2,
   "id": "a97f9860",
   "metadata": {},
   "outputs": [
    {
     "name": "stdout",
     "output_type": "stream",
     "text": [
      "WARNING:tensorflow:No training configuration found in the save file, so the model was *not* compiled. Compile it manually.\n"
     ]
    }
   ],
   "source": [
    "VGG_model=keras.models.load_model(\n",
    "    \"vgg16.h5\", custom_objects=None, compile=True, options=None\n",
    ")\n",
    "model = pickle.load(open('RF_model.pkl','rb'))"
   ]
  },
  {
   "cell_type": "code",
   "execution_count": 3,
   "id": "4f07228e",
   "metadata": {},
   "outputs": [],
   "source": [
    "train_labels=['cat','dog']"
   ]
  },
  {
   "cell_type": "code",
   "execution_count": 4,
   "id": "eec64ead",
   "metadata": {},
   "outputs": [],
   "source": [
    "img = cv2.imread(\"images/test/cats/images.jpg\")      \n",
    "img = cv2.resize(img, (256, 256))"
   ]
  },
  {
   "cell_type": "code",
   "execution_count": 5,
   "id": "51df1073",
   "metadata": {},
   "outputs": [
    {
     "name": "stdout",
     "output_type": "stream",
     "text": [
      "The prediction for this image is:  0\n",
      "The actual label for this image is:  cat\n"
     ]
    }
   ],
   "source": [
    "input_img = np.expand_dims(img, axis=0) #Expand dims so the input is (num images, x, y, c)\n",
    "input_img_feature=VGG_model.predict(input_img)\n",
    "input_img_features=input_img_feature.reshape(input_img_feature.shape[0], -1)\n",
    "prediction_RF = model.predict(input_img_features)[0] \n",
    "print(\"The prediction for this image is: \", prediction_RF)\n",
    "print(\"The actual label for this image is: \", train_labels[prediction_RF])"
   ]
  },
  {
   "cell_type": "markdown",
   "id": "46655e4d",
   "metadata": {},
   "source": [
    "# deployment"
   ]
  },
  {
   "cell_type": "code",
   "execution_count": null,
   "id": "afeb6619",
   "metadata": {},
   "outputs": [
    {
     "name": "stdout",
     "output_type": "stream",
     "text": [
      "WARNING:tensorflow:No training configuration found in the save file, so the model was *not* compiled. Compile it manually.\n",
      " * Serving Flask app \"__main__\" (lazy loading)\n",
      " * Environment: production\n",
      "   WARNING: This is a development server. Do not use it in a production deployment.\n",
      "   Use a production WSGI server instead.\n",
      " * Debug mode: off\n"
     ]
    },
    {
     "name": "stderr",
     "output_type": "stream",
     "text": [
      " * Running on http://127.0.0.1:5000/ (Press CTRL+C to quit)\n",
      "127.0.0.1 - - [02/Sep/2021 17:23:23] \"\u001b[37mGET / HTTP/1.1\u001b[0m\" 200 -\n",
      "127.0.0.1 - - [02/Sep/2021 17:23:26] \"\u001b[33mGET /favicon.ico HTTP/1.1\u001b[0m\" 404 -\n",
      "127.0.0.1 - - [02/Sep/2021 17:23:53] \"\u001b[37mPOST /predict HTTP/1.1\u001b[0m\" 200 -\n"
     ]
    },
    {
     "name": "stdout",
     "output_type": "stream",
     "text": [
      "yo-------------------------------- cat\n"
     ]
    },
    {
     "name": "stderr",
     "output_type": "stream",
     "text": [
      "127.0.0.1 - - [02/Sep/2021 17:24:19] \"\u001b[37mPOST /predict HTTP/1.1\u001b[0m\" 200 -\n"
     ]
    },
    {
     "name": "stdout",
     "output_type": "stream",
     "text": [
      "yo-------------------------------- dog\n"
     ]
    },
    {
     "name": "stderr",
     "output_type": "stream",
     "text": [
      "127.0.0.1 - - [02/Sep/2021 17:24:27] \"\u001b[37mPOST /predict HTTP/1.1\u001b[0m\" 200 -\n"
     ]
    },
    {
     "name": "stdout",
     "output_type": "stream",
     "text": [
      "yo-------------------------------- dog\n"
     ]
    },
    {
     "name": "stderr",
     "output_type": "stream",
     "text": [
      "127.0.0.1 - - [02/Sep/2021 17:24:36] \"\u001b[37mPOST /predict HTTP/1.1\u001b[0m\" 200 -\n"
     ]
    },
    {
     "name": "stdout",
     "output_type": "stream",
     "text": [
      "yo-------------------------------- cat\n"
     ]
    },
    {
     "name": "stderr",
     "output_type": "stream",
     "text": [
      "127.0.0.1 - - [02/Sep/2021 17:24:49] \"\u001b[37mPOST /predict HTTP/1.1\u001b[0m\" 200 -\n"
     ]
    },
    {
     "name": "stdout",
     "output_type": "stream",
     "text": [
      "yo-------------------------------- dog\n"
     ]
    },
    {
     "name": "stderr",
     "output_type": "stream",
     "text": [
      "127.0.0.1 - - [02/Sep/2021 17:24:56] \"\u001b[37mPOST /predict HTTP/1.1\u001b[0m\" 200 -\n"
     ]
    },
    {
     "name": "stdout",
     "output_type": "stream",
     "text": [
      "yo-------------------------------- dog\n"
     ]
    }
   ],
   "source": [
    "from flask import Flask, redirect, url_for, request, render_template\n",
    "import pickle,keras,cv2\n",
    "import os\n",
    "import glob\n",
    "import re\n",
    "import numpy as np\n",
    "\n",
    "VGG_model=keras.models.load_model(\"vgg16.h5\", custom_objects=None, compile=True, options=None)\n",
    "model = pickle.load(open('RF_model.pkl','rb'))\n",
    "train_labels=['cat','dog']\n",
    "\n",
    "app = Flask(__name__)\n",
    "UPLOAD_FOLDER=\"upload\"\n",
    "\n",
    "\n",
    "@app.route('/', methods=['GET'])\n",
    "def index():\n",
    "    # Main page\n",
    "    return render_template('index.html')\n",
    "\n",
    "\n",
    "\n",
    "\n",
    "@app.route('/predict', methods=['GET', 'POST'])\n",
    "def upload():\n",
    "    if request.method==\"POST\":\n",
    "        image_file= request.files[\"image\"]\n",
    "        if image_file:\n",
    "            image_location= os.path.join(\n",
    "                UPLOAD_FOLDER,\n",
    "                image_file.filename\n",
    "            )\n",
    "            \n",
    "            \n",
    "            image_file.save(image_location)\n",
    "            \n",
    "            x=image_location.split('\\\\')\n",
    "            \n",
    "            img=\"upload\"+\"/\"+x[1]\n",
    "            \n",
    "            img = cv2.imread(img)      \n",
    "            img = cv2.resize(img, (256, 256))\n",
    "            input_img = np.expand_dims(img, axis=0) #Expand dims so the input is (num images, x, y, c)\n",
    "            input_img_feature=VGG_model.predict(input_img)\n",
    "            \n",
    "            input_img_features=input_img_feature.reshape(input_img_feature.shape[0], -1)\n",
    "            \n",
    "            prediction_RF = model.predict(input_img_features)[0]\n",
    "            \n",
    "            result=train_labels[prediction_RF]\n",
    "            \n",
    "            print(\"yo--------------------------------\",result)\n",
    "            return result\n",
    "    return None\n",
    "\n",
    "if __name__ == \"__main__\":\n",
    "    app.run()"
   ]
  },
  {
   "cell_type": "code",
   "execution_count": null,
   "id": "24155450",
   "metadata": {},
   "outputs": [
    {
     "name": "stdout",
     "output_type": "stream",
     "text": [
      "WARNING:tensorflow:No training configuration found in the save file, so the model was *not* compiled. Compile it manually.\n",
      " * Serving Flask app \"__main__\" (lazy loading)\n",
      " * Environment: production\n",
      "   WARNING: This is a development server. Do not use it in a production deployment.\n",
      "   Use a production WSGI server instead.\n",
      " * Debug mode: off\n"
     ]
    },
    {
     "name": "stderr",
     "output_type": "stream",
     "text": [
      " * Running on http://127.0.0.1:5000/ (Press CTRL+C to quit)\n",
      "127.0.0.1 - - [27/Dec/2021 17:59:27] \"\u001b[37mGET / HTTP/1.1\u001b[0m\" 200 -\n",
      "127.0.0.1 - - [27/Dec/2021 17:59:27] \"\u001b[37mGET /static/css/main.css HTTP/1.1\u001b[0m\" 200 -\n",
      "127.0.0.1 - - [27/Dec/2021 17:59:27] \"\u001b[37mGET /static/js/main.js HTTP/1.1\u001b[0m\" 200 -\n",
      "127.0.0.1 - - [27/Dec/2021 17:59:27] \"\u001b[33mGET /favicon.ico HTTP/1.1\u001b[0m\" 404 -\n",
      "127.0.0.1 - - [27/Dec/2021 18:00:01] \"\u001b[37mGET / HTTP/1.1\u001b[0m\" 200 -\n"
     ]
    }
   ],
   "source": [
    "from flask import Flask, redirect, url_for, request, render_template\n",
    "import pickle,keras,cv2\n",
    "import os\n",
    "import glob\n",
    "import re\n",
    "import numpy as np\n",
    "\n",
    "VGG_model=keras.models.load_model(\"vgg16.h5\", custom_objects=None, compile=True, options=None)\n",
    "model = pickle.load(open('RF_model.pkl','rb'))\n",
    "train_labels=['cat','dog']\n",
    "\n",
    "app = Flask(__name__)\n",
    "UPLOAD_FOLDER=\"upload\"\n",
    "\n",
    "\n",
    "@app.route('/', methods=['GET'])\n",
    "def index():\n",
    "    # Main page\n",
    "    return render_template('index.html')\n",
    "\n",
    "\n",
    "\n",
    "\n",
    "@app.route('/predict', methods=['GET', 'POST'])\n",
    "def upload():\n",
    "    if request.method==\"POST\":\n",
    "        image_file= request.files[\"image\"]\n",
    "        print(image_file)\n",
    "        if image_file:\n",
    "            image_location= os.path.join(\n",
    "                UPLOAD_FOLDER,\n",
    "                image_file.filename\n",
    "            )\n",
    "            \n",
    "            \n",
    "            image_file.save(image_location)\n",
    "            \n",
    "            x=image_location.split('\\\\')\n",
    "            \n",
    "            img=\"upload\"+\"/\"+x[1]\n",
    "            \n",
    "            img = cv2.imread(img)      \n",
    "            img = cv2.resize(img, (256, 256))\n",
    "            input_img = np.expand_dims(img, axis=0) #Expand dims so the input is (num images, x, y, c)\n",
    "            input_img_feature=VGG_model.predict(input_img)\n",
    "            \n",
    "            input_img_features=input_img_feature.reshape(input_img_feature.shape[0], -1)\n",
    "            \n",
    "            prediction_RF = model.predict(input_img_features)[0]\n",
    "            \n",
    "            result=train_labels[prediction_RF]\n",
    "            \n",
    "            print(\"yo--------------------------------\",result)\n",
    "            return result\n",
    "    return None\n",
    "\n",
    "if __name__ == \"__main__\":\n",
    "    app.run()"
   ]
  },
  {
   "cell_type": "code",
   "execution_count": null,
   "id": "0e1437a2",
   "metadata": {},
   "outputs": [],
   "source": []
  }
 ],
 "metadata": {
  "kernelspec": {
   "display_name": "Python 3",
   "language": "python",
   "name": "python3"
  },
  "language_info": {
   "codemirror_mode": {
    "name": "ipython",
    "version": 3
   },
   "file_extension": ".py",
   "mimetype": "text/x-python",
   "name": "python",
   "nbconvert_exporter": "python",
   "pygments_lexer": "ipython3",
   "version": "3.8.8"
  }
 },
 "nbformat": 4,
 "nbformat_minor": 5
}
