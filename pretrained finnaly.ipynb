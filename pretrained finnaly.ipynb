{
 "cells": [
  {
   "cell_type": "markdown",
   "id": "888d3b76",
   "metadata": {},
   "source": [
    "# Import labries "
   ]
  },
  {
   "cell_type": "code",
   "execution_count": 1,
   "id": "40e69260",
   "metadata": {},
   "outputs": [],
   "source": [
    "import numpy as np \n",
    "import matplotlib.pyplot as plt\n",
    "import glob\n",
    "import cv2\n",
    "\n",
    "from keras.models import Model, Sequential\n",
    "from keras.layers import Dense, Flatten, Conv2D, MaxPooling2D\n",
    "from keras.layers.normalization import BatchNormalization\n",
    "import os\n",
    "import seaborn as sns\n",
    "from keras.applications.vgg16 import VGG16"
   ]
  },
  {
   "cell_type": "code",
   "execution_count": 2,
   "id": "2a9bbd8d",
   "metadata": {},
   "outputs": [],
   "source": [
    "from tensorflow.keras.applications import Xception"
   ]
  },
  {
   "cell_type": "markdown",
   "id": "7fd6390e",
   "metadata": {},
   "source": [
    "# Read input images and assign labels based on folder names"
   ]
  },
  {
   "cell_type": "code",
   "execution_count": 3,
   "id": "aacaa626",
   "metadata": {},
   "outputs": [
    {
     "name": "stdout",
     "output_type": "stream",
     "text": [
      "['test', 'train']\n"
     ]
    }
   ],
   "source": [
    "print(os.listdir(\"images/\"))\n",
    "\n",
    "SIZE = 256  #Resize images"
   ]
  },
  {
   "cell_type": "markdown",
   "id": "02676b88",
   "metadata": {},
   "source": [
    "# Capture training data and labels into respective lists"
   ]
  },
  {
   "cell_type": "code",
   "execution_count": 4,
   "id": "6288eeb6",
   "metadata": {},
   "outputs": [
    {
     "name": "stdout",
     "output_type": "stream",
     "text": [
      "cats\n",
      "images/train\\cats\\01-kitten-cuteness-1.jpg\n",
      "images/train\\cats\\1209389.jpg\n",
      "images/train\\cats\\33326dcddbf15c56d631e374b62338dc.jpg\n",
      "images/train\\cats\\94041.jpg\n",
      "images/train\\cats\\cute-cats-0.jpg\n",
      "dogs\n",
      "images/train\\dogs\\dog-puppy-on-garden-royalty-free-image-1586966191.jpg\n",
      "images/train\\dogs\\download.jpg\n",
      "images/train\\dogs\\entertainment-2014-08-biscuit-kat-main.jpg\n",
      "images/train\\dogs\\fa41ace1ab4cde11018a9b224e488806.jpg\n",
      "images/train\\dogs\\images (1).jpg\n"
     ]
    }
   ],
   "source": [
    "train_images = []\n",
    "train_labels = [] \n",
    "\n",
    "for directory_path in glob.glob(\"images/train/*\"):\n",
    "    label = directory_path.split(\"\\\\\")[-1]\n",
    "    print(label)\n",
    "    for img_path in glob.glob(os.path.join(directory_path, \"*.jpg\")):\n",
    "        print(img_path)\n",
    "        img = cv2.imread(img_path)#, cv2.IMREAD_COLOR)       \n",
    "        img = cv2.resize(img, (SIZE, SIZE))\n",
    "        #img = cv2.cvtColor(img, cv2.COLOR_RGB2BGR)\n",
    "        train_images.append(img)\n",
    "        train_labels.append(label)\n",
    "\n"
   ]
  },
  {
   "cell_type": "code",
   "execution_count": 5,
   "id": "1489e7b7",
   "metadata": {},
   "outputs": [],
   "source": [
    "cv2.imshow(\"yo\",train_images[0])\n",
    "cv2.waitKey(0)\n",
    "cv2.destroyAllWindows()"
   ]
  },
  {
   "cell_type": "markdown",
   "id": "c5946dbc",
   "metadata": {},
   "source": [
    "# Convert lists to arrays  "
   ]
  },
  {
   "cell_type": "code",
   "execution_count": 5,
   "id": "90ee2089",
   "metadata": {},
   "outputs": [],
   "source": [
    "train_images = np.array(train_images)\n",
    "train_labels = np.array(train_labels)"
   ]
  },
  {
   "cell_type": "markdown",
   "id": "670ccb4d",
   "metadata": {},
   "source": [
    "# Capture test/validation data and labels into respective lists"
   ]
  },
  {
   "cell_type": "code",
   "execution_count": 31,
   "id": "ab64a0ae",
   "metadata": {},
   "outputs": [],
   "source": [
    "test_images = []\n",
    "test_labels = [] \n",
    "for directory_path in glob.glob(\"images/test/*\"):\n",
    "    fruit_label = directory_path.split(\"\\\\\")[-1]\n",
    "    for img_path in glob.glob(os.path.join(directory_path, \"*.jpg\")):\n",
    "        img = cv2.imread(img_path)#, cv2.IMREAD_COLOR)\n",
    "        img = cv2.resize(img, (SIZE, SIZE))\n",
    "        #img = cv2.cvtColor(img, cv2.COLOR_RGB2BGR)\n",
    "        test_images.append(img)\n",
    "        test_labels.append(fruit_label)"
   ]
  },
  {
   "cell_type": "markdown",
   "id": "5f0e9887",
   "metadata": {},
   "source": [
    "# Convert lists to arrays"
   ]
  },
  {
   "cell_type": "code",
   "execution_count": 32,
   "id": "647e8422",
   "metadata": {},
   "outputs": [],
   "source": [
    "test_images = np.array(test_images)\n",
    "test_labels = np.array(test_labels)"
   ]
  },
  {
   "cell_type": "markdown",
   "id": "cdd0a404",
   "metadata": {},
   "source": [
    "# Encode labels from text to integers."
   ]
  },
  {
   "cell_type": "code",
   "execution_count": 33,
   "id": "c0eb78b9",
   "metadata": {},
   "outputs": [],
   "source": [
    "from sklearn import preprocessing\n",
    "le = preprocessing.LabelEncoder()\n",
    "le.fit(test_labels)\n",
    "test_labels_encoded = le.transform(test_labels)\n",
    "le.fit(train_labels)\n",
    "train_labels_encoded = le.transform(train_labels)"
   ]
  },
  {
   "cell_type": "markdown",
   "id": "656976f5",
   "metadata": {},
   "source": [
    "# Split data into test and train datasets (already split but assigning to meaningful convention)"
   ]
  },
  {
   "cell_type": "code",
   "execution_count": 34,
   "id": "10832b1d",
   "metadata": {},
   "outputs": [],
   "source": [
    "x_train, y_train, x_test, y_test = train_images, train_labels_encoded, test_images, test_labels_encoded"
   ]
  },
  {
   "cell_type": "markdown",
   "id": "d94671e7",
   "metadata": {},
   "source": [
    "# Normalize pixel values to between 0 and 1"
   ]
  },
  {
   "cell_type": "code",
   "execution_count": 35,
   "id": "6fb6bb7f",
   "metadata": {},
   "outputs": [],
   "source": [
    "x_train, x_test = x_train / 255.0, x_test / 255.0"
   ]
  },
  {
   "cell_type": "markdown",
   "id": "0a0957f9",
   "metadata": {},
   "source": [
    "# One hot encode y values for neural network"
   ]
  },
  {
   "cell_type": "code",
   "execution_count": 36,
   "id": "41fb7698",
   "metadata": {},
   "outputs": [],
   "source": [
    "from tensorflow.keras.utils import to_categorical\n",
    "\n",
    "y_train_one_hot = to_categorical(y_train)\n",
    "y_test_one_hot = to_categorical(y_test)"
   ]
  },
  {
   "cell_type": "code",
   "execution_count": 37,
   "id": "5ea10d88",
   "metadata": {},
   "outputs": [
    {
     "data": {
      "text/plain": [
       "array([0, 0, 0, 0, 0, 1, 1, 1, 1, 1])"
      ]
     },
     "execution_count": 37,
     "metadata": {},
     "output_type": "execute_result"
    }
   ],
   "source": [
    "y_train"
   ]
  },
  {
   "cell_type": "code",
   "execution_count": 38,
   "id": "2e484f85",
   "metadata": {},
   "outputs": [
    {
     "data": {
      "text/plain": [
       "array([[1., 0.],\n",
       "       [1., 0.],\n",
       "       [1., 0.],\n",
       "       [1., 0.],\n",
       "       [1., 0.],\n",
       "       [0., 1.],\n",
       "       [0., 1.],\n",
       "       [0., 1.],\n",
       "       [0., 1.],\n",
       "       [0., 1.]], dtype=float32)"
      ]
     },
     "execution_count": 38,
     "metadata": {},
     "output_type": "execute_result"
    }
   ],
   "source": [
    "y_train_one_hot"
   ]
  },
  {
   "cell_type": "markdown",
   "id": "19d70e8a",
   "metadata": {},
   "source": [
    "# Load model wothout classifier/fully connected layers"
   ]
  },
  {
   "cell_type": "code",
   "execution_count": 39,
   "id": "bb1b2e01",
   "metadata": {},
   "outputs": [
    {
     "name": "stdout",
     "output_type": "stream",
     "text": [
      "Model: \"vgg16\"\n",
      "_________________________________________________________________\n",
      "Layer (type)                 Output Shape              Param #   \n",
      "=================================================================\n",
      "input_1 (InputLayer)         [(None, 256, 256, 3)]     0         \n",
      "_________________________________________________________________\n",
      "block1_conv1 (Conv2D)        (None, 256, 256, 64)      1792      \n",
      "_________________________________________________________________\n",
      "block1_conv2 (Conv2D)        (None, 256, 256, 64)      36928     \n",
      "_________________________________________________________________\n",
      "block1_pool (MaxPooling2D)   (None, 128, 128, 64)      0         \n",
      "_________________________________________________________________\n",
      "block2_conv1 (Conv2D)        (None, 128, 128, 128)     73856     \n",
      "_________________________________________________________________\n",
      "block2_conv2 (Conv2D)        (None, 128, 128, 128)     147584    \n",
      "_________________________________________________________________\n",
      "block2_pool (MaxPooling2D)   (None, 64, 64, 128)       0         \n",
      "_________________________________________________________________\n",
      "block3_conv1 (Conv2D)        (None, 64, 64, 256)       295168    \n",
      "_________________________________________________________________\n",
      "block3_conv2 (Conv2D)        (None, 64, 64, 256)       590080    \n",
      "_________________________________________________________________\n",
      "block3_conv3 (Conv2D)        (None, 64, 64, 256)       590080    \n",
      "_________________________________________________________________\n",
      "block3_pool (MaxPooling2D)   (None, 32, 32, 256)       0         \n",
      "_________________________________________________________________\n",
      "block4_conv1 (Conv2D)        (None, 32, 32, 512)       1180160   \n",
      "_________________________________________________________________\n",
      "block4_conv2 (Conv2D)        (None, 32, 32, 512)       2359808   \n",
      "_________________________________________________________________\n",
      "block4_conv3 (Conv2D)        (None, 32, 32, 512)       2359808   \n",
      "_________________________________________________________________\n",
      "block4_pool (MaxPooling2D)   (None, 16, 16, 512)       0         \n",
      "_________________________________________________________________\n",
      "block5_conv1 (Conv2D)        (None, 16, 16, 512)       2359808   \n",
      "_________________________________________________________________\n",
      "block5_conv2 (Conv2D)        (None, 16, 16, 512)       2359808   \n",
      "_________________________________________________________________\n",
      "block5_conv3 (Conv2D)        (None, 16, 16, 512)       2359808   \n",
      "_________________________________________________________________\n",
      "block5_pool (MaxPooling2D)   (None, 8, 8, 512)         0         \n",
      "=================================================================\n",
      "Total params: 14,714,688\n",
      "Trainable params: 0\n",
      "Non-trainable params: 14,714,688\n",
      "_________________________________________________________________\n"
     ]
    }
   ],
   "source": [
    "#Load model wothout classifier/fully connected layers\n",
    "VGG_model = VGG16(weights='imagenet', include_top=False, input_shape=(SIZE, SIZE, 3))\n",
    "\n",
    "#Make loaded layers as non-trainable. This is important as we want to work with pre-trained weights\n",
    "for layer in VGG_model.layers:\n",
    "\tlayer.trainable = False\n",
    "    \n",
    "VGG_model.summary()  #Trainable parameters will be 0\n"
   ]
  },
  {
   "cell_type": "code",
   "execution_count": 40,
   "id": "4972f59b",
   "metadata": {},
   "outputs": [
    {
     "name": "stdout",
     "output_type": "stream",
     "text": [
      "<keras.engine.input_layer.InputLayer object at 0x00000128F8F128B0>\n",
      "<keras.layers.convolutional.Conv2D object at 0x0000012881B731C0>\n",
      "<keras.layers.convolutional.Conv2D object at 0x0000012881B73D00>\n",
      "<keras.layers.pooling.MaxPooling2D object at 0x0000012881B739A0>\n",
      "<keras.layers.convolutional.Conv2D object at 0x00000128F393C130>\n",
      "<keras.layers.convolutional.Conv2D object at 0x00000128F393CF70>\n",
      "<keras.layers.pooling.MaxPooling2D object at 0x00000128F74F08E0>\n",
      "<keras.layers.convolutional.Conv2D object at 0x0000012881BA6730>\n",
      "<keras.layers.convolutional.Conv2D object at 0x0000012881BA0C70>\n",
      "<keras.layers.convolutional.Conv2D object at 0x00000128F74F0220>\n",
      "<keras.layers.pooling.MaxPooling2D object at 0x00000128F74F0760>\n",
      "<keras.layers.convolutional.Conv2D object at 0x0000012881BAE130>\n",
      "<keras.layers.convolutional.Conv2D object at 0x0000012881B953A0>\n",
      "<keras.layers.convolutional.Conv2D object at 0x0000012881BB5070>\n",
      "<keras.layers.pooling.MaxPooling2D object at 0x0000012881BAA2B0>\n",
      "<keras.layers.convolutional.Conv2D object at 0x0000012881BCBAC0>\n",
      "<keras.layers.convolutional.Conv2D object at 0x0000012881BCBE50>\n",
      "<keras.layers.convolutional.Conv2D object at 0x0000012881BD5F40>\n",
      "<keras.layers.pooling.MaxPooling2D object at 0x0000012881BC5820>\n"
     ]
    }
   ],
   "source": [
    "for layer in VGG_model.layers:\n",
    "    print(layer)"
   ]
  },
  {
   "cell_type": "code",
   "execution_count": 41,
   "id": "027bcc6d",
   "metadata": {},
   "outputs": [
    {
     "name": "stdout",
     "output_type": "stream",
     "text": [
      "WARNING:tensorflow:Compiled the loaded model, but the compiled metrics have yet to be built. `model.compile_metrics` will be empty until you train or evaluate the model.\n"
     ]
    }
   ],
   "source": [
    "VGG_model.save(\"vgg16.h5\")"
   ]
  },
  {
   "cell_type": "markdown",
   "id": "1dffe49c",
   "metadata": {},
   "source": [
    "# Now, let us use features from convolutional network for RF"
   ]
  },
  {
   "cell_type": "code",
   "execution_count": 42,
   "id": "0034a1e5",
   "metadata": {},
   "outputs": [],
   "source": [
    "feature_extractor=VGG_model.predict(x_train)\n",
    "\n",
    "features = feature_extractor.reshape(feature_extractor.shape[0], -1)\n",
    "\n",
    "X_for_RF = features #This is our X input to RF"
   ]
  },
  {
   "cell_type": "code",
   "execution_count": 43,
   "id": "f4ebce8c",
   "metadata": {},
   "outputs": [
    {
     "data": {
      "text/plain": [
       "((10, 8, 8, 512), (10, 32768))"
      ]
     },
     "execution_count": 43,
     "metadata": {},
     "output_type": "execute_result"
    }
   ],
   "source": [
    "feature_extractor.shape,features.shape"
   ]
  },
  {
   "cell_type": "code",
   "execution_count": 44,
   "id": "3482afaf",
   "metadata": {},
   "outputs": [
    {
     "data": {
      "text/plain": [
       "(10, 32768)"
      ]
     },
     "execution_count": 44,
     "metadata": {},
     "output_type": "execute_result"
    }
   ],
   "source": [
    "X_for_RF.shape"
   ]
  },
  {
   "cell_type": "markdown",
   "id": "6d279a1f",
   "metadata": {},
   "source": [
    "# Model"
   ]
  },
  {
   "cell_type": "code",
   "execution_count": 45,
   "id": "efd58975",
   "metadata": {},
   "outputs": [],
   "source": [
    "#RANDOM FOREST\n",
    "from sklearn.ensemble import RandomForestClassifier\n",
    "RF_model = RandomForestClassifier(n_estimators = 50, random_state = 42)\n",
    "\n",
    "# Train the model on training data\n",
    "RF_model.fit(X_for_RF, y_train) #For sklearn no one hot encoding\n",
    "\n",
    "#Send test data through same feature extractor process\n",
    "X_test_feature = VGG_model.predict(x_test)\n",
    "X_test_features = X_test_feature.reshape(X_test_feature.shape[0], -1)\n",
    "\n",
    "#Now predict using the trained RF model. \n",
    "prediction_RF = RF_model.predict(X_test_features)\n",
    "#Inverse le transform to get original label back. \n",
    "prediction_RF = le.inverse_transform(prediction_RF)"
   ]
  },
  {
   "cell_type": "code",
   "execution_count": 46,
   "id": "2c080764",
   "metadata": {},
   "outputs": [],
   "source": [
    "import pickle\n",
    "pickle.dump(RF_model, open('RF_model.pkl','wb'))\n",
    "\n",
    "# Loading model to compare the results\n",
    "model = pickle.load(open('RF_model.pkl','rb'))"
   ]
  },
  {
   "cell_type": "markdown",
   "id": "68f2c110",
   "metadata": {},
   "source": [
    "# Accuracy"
   ]
  },
  {
   "cell_type": "code",
   "execution_count": 47,
   "id": "02436627",
   "metadata": {},
   "outputs": [
    {
     "name": "stdout",
     "output_type": "stream",
     "text": [
      "Accuracy =  1.0\n"
     ]
    },
    {
     "data": {
      "text/plain": [
       "<AxesSubplot:>"
      ]
     },
     "execution_count": 47,
     "metadata": {},
     "output_type": "execute_result"
    },
    {
     "data": {
      "image/png": "[encoded data removed]",
      "text/plain": [
       "<Figure size 432x288 with 2 Axes>"
      ]
     },
     "metadata": {
      "needs_background": "light"
     },
     "output_type": "display_data"
    }
   ],
   "source": [
    "#Print overall accuracy\n",
    "from sklearn import metrics\n",
    "print (\"Accuracy = \", metrics.accuracy_score(test_labels, prediction_RF))\n",
    "\n",
    "#Confusion Matrix - verify accuracy of each class\n",
    "from sklearn.metrics import confusion_matrix\n",
    "\n",
    "cm = confusion_matrix(test_labels, prediction_RF)\n",
    "#print(cm)\n",
    "sns.heatmap(cm, annot=True)"
   ]
  },
  {
   "cell_type": "markdown",
   "id": "6a4178b8",
   "metadata": {},
   "source": [
    "# Random img test"
   ]
  },
  {
   "cell_type": "code",
   "execution_count": 48,
   "id": "2792bd2a",
   "metadata": {},
   "outputs": [
    {
     "name": "stdout",
     "output_type": "stream",
     "text": [
      "The prediction for this image is:  ['dogs']\n",
      "The actual label for this image is:  dogs\n"
     ]
    },
    {
     "data": {
      "image/png": "[encoded data removed]",
      "text/plain": [
       "<Figure size 432x288 with 1 Axes>"
      ]
     },
     "metadata": {
      "needs_background": "light"
     },
     "output_type": "display_data"
    }
   ],
   "source": [
    "#Check results on a few select images\n",
    "n=np.random.randint(0, x_test.shape[0])\n",
    "img = x_test[n]\n",
    "plt.imshow(img)\n",
    "input_img = np.expand_dims(img, axis=0) #Expand dims so the input is (num images, x, y, c)\n",
    "input_img_feature=VGG_model.predict(input_img)\n",
    "input_img_features=input_img_feature.reshape(input_img_feature.shape[0], -1)\n",
    "prediction_RF = RF_model.predict(input_img_features)[0] \n",
    "prediction_RF = le.inverse_transform([prediction_RF])  #Reverse the label encoder to original name\n",
    "print(\"The prediction for this image is: \", prediction_RF)\n",
    "print(\"The actual label for this image is: \", test_labels[n])"
   ]
  },
  {
   "cell_type": "markdown",
   "id": "84dd62f9",
   "metadata": {},
   "source": [
    "# try"
   ]
  },
  {
   "cell_type": "code",
   "execution_count": 1,
   "id": "1ab3abd1",
   "metadata": {},
   "outputs": [],
   "source": [
    "import pickle,keras,cv2\n",
    "import numpy as np"
   ]
  },
  {
   "cell_type": "code",
   "execution_count": 2,
   "id": "6fd2abf6",
   "metadata": {},
   "outputs": [
    {
     "name": "stdout",
     "output_type": "stream",
     "text": [
      "WARNING:tensorflow:No training configuration found in the save file, so the model was *not* compiled. Compile it manually.\n"
     ]
    }
   ],
   "source": [
    "VGG_model=keras.models.load_model(\n",
    "    \"vgg16.h5\", custom_objects=None, compile=True, options=None\n",
    ")\n",
    "model = pickle.load(open('RF_model.pkl','rb'))"
   ]
  },
  {
   "cell_type": "code",
   "execution_count": 3,
   "id": "8c19574a",
   "metadata": {},
   "outputs": [],
   "source": [
    "train_labels=['cats','cats','cats','cats','cats','dogs','dogs','dogs','dogs','dogs']"
   ]
  },
  {
   "cell_type": "code",
   "execution_count": 4,
   "id": "0e66c0c5",
   "metadata": {},
   "outputs": [],
   "source": [
    "img = cv2.imread(\"images/train/cats/01-kitten-cuteness-1.jpg\")      \n",
    "img = cv2.resize(img, (256, 256))"
   ]
  },
  {
   "cell_type": "code",
   "execution_count": 5,
   "id": "7c6f6238",
   "metadata": {},
   "outputs": [
    {
     "name": "stdout",
     "output_type": "stream",
     "text": [
      "The prediction for this image is:  0\n",
      "The actual label for this image is:  cats\n"
     ]
    }
   ],
   "source": [
    "input_img = np.expand_dims(img, axis=0) #Expand dims so the input is (num images, x, y, c)\n",
    "input_img_feature=VGG_model.predict(input_img)\n",
    "input_img_features=input_img_feature.reshape(input_img_feature.shape[0], -1)\n",
    "prediction_RF = model.predict(input_img_features)[0] \n",
    "print(\"The prediction for this image is: \", prediction_RF)\n",
    "print(\"The actual label for this image is: \", train_labels[prediction_RF])"
   ]
  }
 ],
 "metadata": {
  "kernelspec": {
   "display_name": "Python 3",
   "language": "python",
   "name": "python3"
  },
  "language_info": {
   "codemirror_mode": {
    "name": "ipython",
    "version": 3
   },
   "file_extension": ".py",
   "mimetype": "text/x-python",
   "name": "python",
   "nbconvert_exporter": "python",
   "pygments_lexer": "ipython3",
   "version": "3.8.8"
  }
 },
 "nbformat": 4,
 "nbformat_minor": 5
}
